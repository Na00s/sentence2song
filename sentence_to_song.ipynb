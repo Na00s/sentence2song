{
 "cells": [
  {
   "cell_type": "markdown",
   "metadata": {},
   "source": [
    "# Sentence to music"
   ]
  },
  {
   "cell_type": "markdown",
   "metadata": {},
   "source": [
    "### Loading Libraries"
   ]
  },
  {
   "cell_type": "code",
   "execution_count": 33,
   "metadata": {},
   "outputs": [],
   "source": [
    "import warnings\n",
    "warnings.filterwarnings('ignore')"
   ]
  },
  {
   "cell_type": "code",
   "execution_count": 34,
   "metadata": {},
   "outputs": [],
   "source": [
    "from sklearn.feature_extraction.text import TfidfVectorizer\n",
    "from sklearn.metrics.pairwise import cosine_similarity\n",
    "from nltk.tokenize import word_tokenize\n",
    "from nltk.stem import PorterStemmer\n",
    "from nltk.corpus import stopwords\n",
    "from lyricsgenius import Genius\n",
    "import pandas as pd\n",
    "import transformers\n",
    "import numpy as np\n",
    "import requests\n",
    "import string\n",
    "import random\n",
    "import nltk\n",
    "import json\n",
    "import re"
   ]
  },
  {
   "cell_type": "code",
   "execution_count": 35,
   "metadata": {},
   "outputs": [],
   "source": [
    "ACCESS_TOKEN = 'qm34e4S6Q-DDVa99o8EYksGjd9BqbJGmCkS-Vu7YCxojc7IgqiYb89xPc1Nf2eYk'\n",
    "HEADERS = {'Authorization': f'Bearer {ACCESS_TOKEN}'}\n",
    "token = ACCESS_TOKEN\n",
    "genius = Genius(token)"
   ]
  },
  {
   "cell_type": "markdown",
   "metadata": {},
   "source": [
    "### Configuring API request"
   ]
  },
  {
   "cell_type": "code",
   "execution_count": 36,
   "metadata": {},
   "outputs": [],
   "source": [
    "# Turn off status messages\n",
    "genius.verbose = False\n",
    "\n",
    "# Remove section headers (e.g. [Chorus]) from lyrics when searching\n",
    "genius.remove_section_headers = True\n",
    "\n",
    "# Include hits thought to be non-songs (e.g. track lists)\n",
    "genius.skip_non_songs = False\n",
    "\n",
    "# Exclude songs with these words in their title\n",
    "genius.excluded_terms = [\"(Remix)\", \"(Live)\"]"
   ]
  },
  {
   "cell_type": "markdown",
   "metadata": {},
   "source": [
    "### Loading the data"
   ]
  },
  {
   "cell_type": "code",
   "execution_count": 40,
   "metadata": {},
   "outputs": [],
   "source": [
    "artists = ['Drake', 'Tame Impala', 'Taylor Swift', 'Freddie Gibbs', 'SZA', 'Swae Lee', 'Tory Lanez', 'Sia', 'Daft Punk', 'Doja Cat', 'Bruno Mars', 'Frank Ocean', 'Post Malone', 'Nirvana', 'Bryson Tiller', 'The Beatles', 'Zach Bryan', 'Joji', 'Akon', 'Dua Lipa', 'Rod Wave', 'Justin Timberlake', 'Olivia Rodrigo', 'Rema', 'Arctic Monkeys', 'Bee Gees', 'Imagine Dragons', 'Radiohead', 'Oasis', 'Queen', 'Maroon 5', 'Eagles', 'Metallica', 'The Weeknd', 'XXXTENTACION', 'Kendrick Lamar', 'Good Kid', 'J. Cole', 'Travis Scott', 'Kanye West', 'Lil Uzi Vert', 'Lil Baby', 'Lil Wayne', 'Lil Nas X', 'Lil Durk', 'Lil Yachty', 'Lil Tjay', 'Lil Tecca', 'Lil Skies', 'Lil Mosey', 'Lil Peep', 'Lil Dicky',  'Lil Pump', 'Lil Xan', 'Lil Reese', 'Lil Keed', 'Baby Keem', 'Shakira', 'Wiz Khalifa', 'Mitski', 'Pardison Fontaine', 'Nas', 'Fall Out Boy', 'Ed Sheeran', 'Bonnie Tyler', 'Sampha', 'Halsey', 'Rita Ora', 'Chance The Rapper', 'Childish Gambino', 'Owl City', 'Aaron May', 'Summer Walker', 'Jhené Aiko']\n",
    "#for artist in artists:\n",
    "    #artist = genius.search_artist(artist, max_songs=7, sort=\"title\")\n",
    "    # save data to a json file in the current directory\n",
    "    #artist.save_lyrics()\n",
    "    #print(f'Finished saving {artist.name}\\'s lyrics')"
   ]
  },
  {
   "cell_type": "markdown",
   "metadata": {},
   "source": [
    "### Parsing the data"
   ]
  },
  {
   "cell_type": "code",
   "execution_count": 41,
   "metadata": {},
   "outputs": [],
   "source": [
    "artists_stripped = [artist.replace(' ', '') for artist in artists]\n",
    "# Import all the json files into a dataframe\n",
    "df = pd.DataFrame()\n",
    "for artist in artists_stripped:\n",
    "    with open(f'Lyrics_{artist}.json') as json_file:\n",
    "        try:\n",
    "            data = json.load(json_file)\n",
    "            df = df.append(pd.DataFrame(data['songs']))\n",
    "        except:\n",
    "            print(f'Could not load {artist}\\'s lyrics')"
   ]
  },
  {
   "cell_type": "code",
   "execution_count": 42,
   "metadata": {},
   "outputs": [],
   "source": [
    "# save the dataframe to a csv file\n",
    "df.to_csv('lyrics.csv', index=False)"
   ]
  },
  {
   "cell_type": "code",
   "execution_count": 43,
   "metadata": {},
   "outputs": [],
   "source": [
    "# Keeping relevant features only\n",
    "df = df[['artist_names', 'release_date', 'language', 'featured_artists', 'full_title', 'title', 'album', 'producer_artists', 'writer_artists', 'artist', 'lyrics']]\n",
    "\n",
    "# remove rows where release_date is null\n",
    "df = df[df['release_date'].notnull()]\n",
    "\n",
    "# Parse 'writer_artists', 'producer_artists', 'features_artists' and 'album' columns\n",
    "df['writer_artists'] = df['writer_artists'].apply(lambda x: [artist['name'] for artist in x])\n",
    "df['producer_artists'] = df['producer_artists'].apply(lambda x: [artist['name'] for artist in x] if x else None)\n",
    "df['featured_artists'] = df['featured_artists'].apply(lambda x: [artist['name'] for artist in x] if x else None)\n",
    "df['album'] = df['album'].apply(lambda x: x['name'] if x else None)\n",
    "\n",
    "#The lyrics column should start after the string \"Contributor\"\n",
    "df['lyrics'] = df['lyrics'].apply(lambda x: x[x.find('Contributor') + 12:])\n",
    "\n",
    "# if '\\n' in lyrics, lyrics should start after the first '\\n'\n",
    "df['lyrics'] = df['lyrics'].apply(lambda x: x[x.find('\\n') + 1:] if '\\n' in x else x)"
   ]
  },
  {
   "cell_type": "code",
   "execution_count": 44,
   "metadata": {},
   "outputs": [
    {
     "data": {
      "text/plain": [
       "'\\nFuck bein\\' on some chill shit\\nWe go 0 to 100, nigga, real quick\\nThey be on that rap-to-pay-the-bills shit\\nAnd I don\\'t feel that shit, not even a little bit\\nOh, Lord, know yourself, know your worth, nigga\\nMy actions been louder than my words, nigga\\nHow you so high, but still so down to Earth, nigga?\\nNiggas wanna do it, we can do it on they turf, nigga\\nOh, Lord, I\\'m the rookie and the vet\\nShoutout to the bitches out here holdin\\' down the set\\nAll up in my phone, lookin\\' at pictures from the other night\\nShe gon\\' be upset if she keep scrollin\\' to the left, dawg\\nShe gon\\' see some shit that she don\\'t wanna see\\nShe ain\\'t ready for it\\nIf I ain\\'t the greatest, then I\\'m headed for it\\nYeah, that mean I\\'m way up (Way up)\\nYeah, the 6 ain\\'t friendly, but that\\'s where I lay up\\nThis shit a mothafuckin\\' lay-up\\nI been Steph Curry with the shot\\nBeen cookin\\' with the sauce, Chef Curry with the pot, boy\\n360 with the wrist, boy\\nAyy, who the fuck them niggas is, boy?\\nOVO, man, we really with the shits, boy\\nYeah, really with the shits\\nI should prolly sign to Hit-Boy \\'cause I got all the hits, boy\\nFuck all that \"Drake, you gotta chill\" shit\\nI be on my Lil Mouse drill shit\\nFuck all that rap-to-pay-your-bills shit\\nYeah, I\\'m on some Raptors-pay-my-bills shit\\nAll up on TV, I thought it\\'d make me richer\\nWasn\\'t payin\\' me enough, I needed somethin\\' quicker\\nSo now I\\'m all in Niko basement puttin\\' work in on the phones\\nEither that or drive to Money Mart to make the pickups\\nMan, it\\'s 2008, I\\'m tryna paint the picture\\nComeback Season in the works and now I\\'m thinkin\\' bigger\\nI got 40 in the studio, every night, late night\\nGotta watch that shit, don\\'t want to make him sicker\\nThat\\'s my nigga\\nOh, Lord, got a whole lot to show for it\\nI mean, we can really get it, we can go for it\\nI\\'m just here for the bucks and the billis, nigga\\nDon\\'t make me kill one of the GOATs for it\\nI run this shit, they like, \"Go Forrest\\nRun Forrest, run Forrest, go Forrest\"\\nYeah, I mean you already wrote for us\\nDamn, nigga, what\\'s one more quote for us?\\nOh, Lord, who else soundin\\' like this?\\nThey ain\\'t make me what I am, they just found me like this\\nI was ready... fuck that, I\\'ve been ready\\nSince my dad used to tell me\\nHe was comin\\' to the house to get me\\nHe ain\\'t show up\\nValuable lesson, man, I had to grow up\\nThat\\'s why I never ask for help\\nI\\'ll do it for you niggas and do it for myself\\nYou might also like\\nI go 0 to 100, nigga, real quick\\nReal quick, whole squad on that real shit\\n0 to 100, nigga, real quick\\nReal quick, real fuckin\\' quick, nigga\\n0 to 100, nigga, real quick\\nReal quick, whole squad on that real shit\\n0 to 100, nigga, real quick\\nReal quick, real fuckin\\' quick, nigga\\n\\nWhole squad on that real shit\\nWhole squad on that real shit\\nWhole squad on that real shit, yeah\\n\\nThe other night\\nLavish Lee told me that I\\'m all these people listen to\\nShe said they love me unconditional\\nImagine how it feel to watch another nigga at the top\\nYou know that if you wasn\\'t you, you would be dissin\\' you, dawg\\nDamn, okay, from that perspective\\nI see what you\\'re talkin\\' \\'bout, no way to soften that\\n\\'Cause me, I was tryna find out where I lost \\'em at\\nBut maybe I ain\\'t lose \\'em at all\\nMaybe I keep movin\\' forward and they\\'re just stagnant\\nThey ain\\'t movin\\' at all\\nBut when they need a favor, who do they call?\\nMaybe I\\'m searchin\\' for the problems\\nAskin\\' what was said and who was involved\\nToo focused on people\\'s feedback and provin\\' \\'em wrong\\nThey say the shoe can always fit, no matter whose foot it\\'s on\\nThese days feel like I\\'m squeezin\\' in \\'em\\nWhoever wore \\'em before just wasn\\'t thinkin\\' big enough\\nI\\'m \\'bout to leave \\'em with \\'em\\n\\'Cause if I run in the game in these, man, the seams are splittin\\'\\nNo pun intended but they\\'re smellin\\' defeat in the air\\nHeaded where nobody took it, who meetin\\' me there?\\nThey tell him that he\\'s talkin\\' crazy but he doesn\\'t care\\nBein\\' humble don\\'t work as well as bein\\' aware\\nListen up, boy, you\\'re better off eavesdroppin\\'\\nWe already got spring 2015 poppin\\'\\nPND droppin\\', Reps-up P droppin\\'\\nMajid Jordan droppin\\', OB droppin\\', not to mention me droppin\\'\\nFeel like we paid the refs off, man, we fixed the game\\nMe and Noel been at it before Twitter names\\nYeah, been on the move like the lease is up\\nAnd I can\\'t even name one person that\\'s keepin\\' up\\nDamn, fuck how it was in the past tense\\nAsk yourself, how do we match up now?\\n\\'Cause I\\'m only 27 and I\\'m only gettin\\' better\\nIf I haven\\'t passed you yet, watch me catch up now, for real\\nCould it be the way that I\\'ll catch up\\nCould it be the way that I\\'ll catch up\\nCould it be the way that I\\'ll catch up\\nCould it be the way that I\\'ll catch up\\nCould it be the way that I\\'ll catch up\\nCould it be the way that I\\'ll catch up\\nCould it be the way that I\\'ll catch up\\nCould it be the way that I\\'ll catch up\\nCould it be the way that I\\'ll catch up\\n2.6KEmbed'"
      ]
     },
     "execution_count": 44,
     "metadata": {},
     "output_type": "execute_result"
    }
   ],
   "source": [
    "df.iloc[0]['lyrics']"
   ]
  },
  {
   "cell_type": "code",
   "execution_count": 45,
   "metadata": {},
   "outputs": [
    {
     "data": {
      "text/html": [
       "<div>\n",
       "<style scoped>\n",
       "    .dataframe tbody tr th:only-of-type {\n",
       "        vertical-align: middle;\n",
       "    }\n",
       "\n",
       "    .dataframe tbody tr th {\n",
       "        vertical-align: top;\n",
       "    }\n",
       "\n",
       "    .dataframe thead th {\n",
       "        text-align: right;\n",
       "    }\n",
       "</style>\n",
       "<table border=\"1\" class=\"dataframe\">\n",
       "  <thead>\n",
       "    <tr style=\"text-align: right;\">\n",
       "      <th></th>\n",
       "      <th>artist_names</th>\n",
       "      <th>release_date</th>\n",
       "      <th>language</th>\n",
       "      <th>featured_artists</th>\n",
       "      <th>full_title</th>\n",
       "      <th>title</th>\n",
       "      <th>album</th>\n",
       "      <th>producer_artists</th>\n",
       "      <th>writer_artists</th>\n",
       "      <th>artist</th>\n",
       "      <th>lyrics</th>\n",
       "    </tr>\n",
       "  </thead>\n",
       "  <tbody>\n",
       "    <tr>\n",
       "      <th>1</th>\n",
       "      <td>Drake</td>\n",
       "      <td>2014-06-01</td>\n",
       "      <td>en</td>\n",
       "      <td>None</td>\n",
       "      <td>0 to 100 / The Catch Up by Drake</td>\n",
       "      <td>0 to 100 / The Catch Up</td>\n",
       "      <td>#FYM12</td>\n",
       "      <td>[Vinylz, Ging, Boi-1da, 40, Nineteen85]</td>\n",
       "      <td>[Chester Hansen, Ging, Nineteen85, Drake, Boi-...</td>\n",
       "      <td>Drake</td>\n",
       "      <td>\\nFuck bein' on some chill shit\\nWe go 0 to 10...</td>\n",
       "    </tr>\n",
       "    <tr>\n",
       "      <th>2</th>\n",
       "      <td>Drake</td>\n",
       "      <td>2015-02-13</td>\n",
       "      <td>en</td>\n",
       "      <td>None</td>\n",
       "      <td>10 Bands by Drake</td>\n",
       "      <td>10 Bands</td>\n",
       "      <td>If You’re Reading This It’s Too Late</td>\n",
       "      <td>[Ging, Sevn Thomas, Boi-1da]</td>\n",
       "      <td>[Sevn Thomas, Ging, Boi-1da, Quentin Miller, D...</td>\n",
       "      <td>Drake</td>\n",
       "      <td>10 Bands, 50 bands, 100 bands, fuck it, man\\nL...</td>\n",
       "    </tr>\n",
       "    <tr>\n",
       "      <th>3</th>\n",
       "      <td>Drake</td>\n",
       "      <td>2010-06-11</td>\n",
       "      <td>en</td>\n",
       "      <td>None</td>\n",
       "      <td>1Xtra Freestyle by Drake</td>\n",
       "      <td>1Xtra Freestyle</td>\n",
       "      <td>Tim Westwood I Freestyles</td>\n",
       "      <td>[Tim Westwood]</td>\n",
       "      <td>[Drake]</td>\n",
       "      <td>Drake</td>\n",
       "      <td>Who else really trying to mess with Hollywood ...</td>\n",
       "    </tr>\n",
       "    <tr>\n",
       "      <th>0</th>\n",
       "      <td>Tame Impala</td>\n",
       "      <td>2010-05-27</td>\n",
       "      <td>en</td>\n",
       "      <td>None</td>\n",
       "      <td>30 Minutes with Mathew Saville by Tame Impala</td>\n",
       "      <td>30 Minutes with Mathew Saville</td>\n",
       "      <td>Innerspeaker (Collector’s Edition)</td>\n",
       "      <td>[Kevin Parker]</td>\n",
       "      <td>[Kevin Parker]</td>\n",
       "      <td>Tame Impala</td>\n",
       "      <td>This song is an instrumentalEmbed</td>\n",
       "    </tr>\n",
       "    <tr>\n",
       "      <th>1</th>\n",
       "      <td>Tame Impala</td>\n",
       "      <td>2011-05-27</td>\n",
       "      <td>en</td>\n",
       "      <td>None</td>\n",
       "      <td>41 Mojitos (Canyons Poolside Dub) by Tame Impala</td>\n",
       "      <td>41 Mojitos (Canyons Poolside Dub)</td>\n",
       "      <td>Innerspeaker (Collector’s Edition)</td>\n",
       "      <td>[Kevin Parker]</td>\n",
       "      <td>[Kevin Parker]</td>\n",
       "      <td>Tame Impala</td>\n",
       "      <td>(Whispering)\\nAhhh-ahhh, ahhh-ahhh, ahhh-ahhh,...</td>\n",
       "    </tr>\n",
       "    <tr>\n",
       "      <th>...</th>\n",
       "      <td>...</td>\n",
       "      <td>...</td>\n",
       "      <td>...</td>\n",
       "      <td>...</td>\n",
       "      <td>...</td>\n",
       "      <td>...</td>\n",
       "      <td>...</td>\n",
       "      <td>...</td>\n",
       "      <td>...</td>\n",
       "      <td>...</td>\n",
       "      <td>...</td>\n",
       "    </tr>\n",
       "    <tr>\n",
       "      <th>2</th>\n",
       "      <td>Jhené Aiko</td>\n",
       "      <td>2012-05-20</td>\n",
       "      <td>en</td>\n",
       "      <td>None</td>\n",
       "      <td>2 Seconds by Jhené Aiko</td>\n",
       "      <td>2 Seconds</td>\n",
       "      <td>Sailing Soul(s) (Streaming Version)</td>\n",
       "      <td>[K. Roosevelt]</td>\n",
       "      <td>[K. Roosevelt, Jhené Aiko]</td>\n",
       "      <td>Jhené Aiko</td>\n",
       "      <td>Yeah, yeah\\nAlright, yeah, yeah\\n\\nOkay, you b...</td>\n",
       "    </tr>\n",
       "    <tr>\n",
       "      <th>3</th>\n",
       "      <td>Jhené Aiko</td>\n",
       "      <td>2012-08-16</td>\n",
       "      <td>en</td>\n",
       "      <td>None</td>\n",
       "      <td>3:16 am by Jhené Aiko</td>\n",
       "      <td>3:16 am</td>\n",
       "      <td>Sail Out - EP</td>\n",
       "      <td>[The Fisticuffs]</td>\n",
       "      <td>[Jhené Aiko, Brian Warfield, Mac Robinson]</td>\n",
       "      <td>Jhené Aiko</td>\n",
       "      <td>Out of place, out of space and time, wide awak...</td>\n",
       "    </tr>\n",
       "    <tr>\n",
       "      <th>4</th>\n",
       "      <td>Jhené Aiko</td>\n",
       "      <td>2020-07-17</td>\n",
       "      <td>en</td>\n",
       "      <td>None</td>\n",
       "      <td>Above and Beyond by Jhené Aiko</td>\n",
       "      <td>Above and Beyond</td>\n",
       "      <td>Chilombo (Deluxe)</td>\n",
       "      <td>[The Fisticuffs]</td>\n",
       "      <td>[Jhené Aiko]</td>\n",
       "      <td>Jhené Aiko</td>\n",
       "      <td>Like yesterday, I remember the night, saw you ...</td>\n",
       "    </tr>\n",
       "    <tr>\n",
       "      <th>5</th>\n",
       "      <td>Jhené Aiko</td>\n",
       "      <td>2020-07-17</td>\n",
       "      <td>en</td>\n",
       "      <td>None</td>\n",
       "      <td>Above and Beyond (Piano) by Jhené Aiko</td>\n",
       "      <td>Above and Beyond (Piano)</td>\n",
       "      <td>Chilombo (Deluxe)</td>\n",
       "      <td>[LEJKEYS]</td>\n",
       "      <td>[Mac Robinson, Jhené Aiko, Brian Warfield]</td>\n",
       "      <td>Jhené Aiko</td>\n",
       "      <td>Like yesterday, I remember the night\\nSaw you ...</td>\n",
       "    </tr>\n",
       "    <tr>\n",
       "      <th>6</th>\n",
       "      <td>Jhené Aiko</td>\n",
       "      <td>2023-05-05</td>\n",
       "      <td>en</td>\n",
       "      <td>None</td>\n",
       "      <td>​​​alive &amp; well (gratitude mantra) by Jhené Aiko</td>\n",
       "      <td>​​​alive &amp; well (gratitude mantra)</td>\n",
       "      <td>Modern Mantra*</td>\n",
       "      <td>[Jhené Aiko]</td>\n",
       "      <td>[Jhené Aiko]</td>\n",
       "      <td>Jhené Aiko</td>\n",
       "      <td>I am alive and well\\nI am alive and well, well...</td>\n",
       "    </tr>\n",
       "  </tbody>\n",
       "</table>\n",
       "<p>320 rows × 11 columns</p>\n",
       "</div>"
      ],
      "text/plain": [
       "   artist_names release_date language featured_artists  \\\n",
       "1         Drake   2014-06-01       en             None   \n",
       "2         Drake   2015-02-13       en             None   \n",
       "3         Drake   2010-06-11       en             None   \n",
       "0   Tame Impala   2010-05-27       en             None   \n",
       "1   Tame Impala   2011-05-27       en             None   \n",
       "..          ...          ...      ...              ...   \n",
       "2    Jhené Aiko   2012-05-20       en             None   \n",
       "3    Jhené Aiko   2012-08-16       en             None   \n",
       "4    Jhené Aiko   2020-07-17       en             None   \n",
       "5    Jhené Aiko   2020-07-17       en             None   \n",
       "6    Jhené Aiko   2023-05-05       en             None   \n",
       "\n",
       "                                          full_title  \\\n",
       "1                   0 to 100 / The Catch Up by Drake   \n",
       "2                                  10 Bands by Drake   \n",
       "3                           1Xtra Freestyle by Drake   \n",
       "0      30 Minutes with Mathew Saville by Tame Impala   \n",
       "1   41 Mojitos (Canyons Poolside Dub) by Tame Impala   \n",
       "..                                               ...   \n",
       "2                            2 Seconds by Jhené Aiko   \n",
       "3                              3:16 am by Jhené Aiko   \n",
       "4                     Above and Beyond by Jhené Aiko   \n",
       "5             Above and Beyond (Piano) by Jhené Aiko   \n",
       "6   ​​​alive & well (gratitude mantra) by Jhené Aiko   \n",
       "\n",
       "                                 title                                 album  \\\n",
       "1              0 to 100 / The Catch Up                                #FYM12   \n",
       "2                             10 Bands  If You’re Reading This It’s Too Late   \n",
       "3                      1Xtra Freestyle             Tim Westwood I Freestyles   \n",
       "0       30 Minutes with Mathew Saville    Innerspeaker (Collector’s Edition)   \n",
       "1    41 Mojitos (Canyons Poolside Dub)    Innerspeaker (Collector’s Edition)   \n",
       "..                                 ...                                   ...   \n",
       "2                            2 Seconds   Sailing Soul(s) (Streaming Version)   \n",
       "3                              3:16 am                         Sail Out - EP   \n",
       "4                     Above and Beyond                     Chilombo (Deluxe)   \n",
       "5             Above and Beyond (Piano)                     Chilombo (Deluxe)   \n",
       "6   ​​​alive & well (gratitude mantra)                        Modern Mantra*   \n",
       "\n",
       "                           producer_artists  \\\n",
       "1   [Vinylz, Ging, Boi-1da, 40, Nineteen85]   \n",
       "2              [Ging, Sevn Thomas, Boi-1da]   \n",
       "3                            [Tim Westwood]   \n",
       "0                            [Kevin Parker]   \n",
       "1                            [Kevin Parker]   \n",
       "..                                      ...   \n",
       "2                            [K. Roosevelt]   \n",
       "3                          [The Fisticuffs]   \n",
       "4                          [The Fisticuffs]   \n",
       "5                                 [LEJKEYS]   \n",
       "6                              [Jhené Aiko]   \n",
       "\n",
       "                                       writer_artists       artist  \\\n",
       "1   [Chester Hansen, Ging, Nineteen85, Drake, Boi-...        Drake   \n",
       "2   [Sevn Thomas, Ging, Boi-1da, Quentin Miller, D...        Drake   \n",
       "3                                             [Drake]        Drake   \n",
       "0                                      [Kevin Parker]  Tame Impala   \n",
       "1                                      [Kevin Parker]  Tame Impala   \n",
       "..                                                ...          ...   \n",
       "2                          [K. Roosevelt, Jhené Aiko]   Jhené Aiko   \n",
       "3          [Jhené Aiko, Brian Warfield, Mac Robinson]   Jhené Aiko   \n",
       "4                                        [Jhené Aiko]   Jhené Aiko   \n",
       "5          [Mac Robinson, Jhené Aiko, Brian Warfield]   Jhené Aiko   \n",
       "6                                        [Jhené Aiko]   Jhené Aiko   \n",
       "\n",
       "                                               lyrics  \n",
       "1   \\nFuck bein' on some chill shit\\nWe go 0 to 10...  \n",
       "2   10 Bands, 50 bands, 100 bands, fuck it, man\\nL...  \n",
       "3   Who else really trying to mess with Hollywood ...  \n",
       "0                   This song is an instrumentalEmbed  \n",
       "1   (Whispering)\\nAhhh-ahhh, ahhh-ahhh, ahhh-ahhh,...  \n",
       "..                                                ...  \n",
       "2   Yeah, yeah\\nAlright, yeah, yeah\\n\\nOkay, you b...  \n",
       "3   Out of place, out of space and time, wide awak...  \n",
       "4   Like yesterday, I remember the night, saw you ...  \n",
       "5   Like yesterday, I remember the night\\nSaw you ...  \n",
       "6   I am alive and well\\nI am alive and well, well...  \n",
       "\n",
       "[320 rows x 11 columns]"
      ]
     },
     "execution_count": 45,
     "metadata": {},
     "output_type": "execute_result"
    }
   ],
   "source": [
    "df"
   ]
  },
  {
   "cell_type": "markdown",
   "metadata": {},
   "source": [
    "## Modeling"
   ]
  },
  {
   "cell_type": "markdown",
   "metadata": {},
   "source": [
    "### Model 0"
   ]
  },
  {
   "cell_type": "code",
   "execution_count": 46,
   "metadata": {},
   "outputs": [
    {
     "data": {
      "text/plain": [
       "<320x8816 sparse matrix of type '<class 'numpy.float64'>'\n",
       "\twith 30949 stored elements in Compressed Sparse Row format>"
      ]
     },
     "execution_count": 46,
     "metadata": {},
     "output_type": "execute_result"
    }
   ],
   "source": [
    "# get tfidf of lyrics\n",
    "tfidf = TfidfVectorizer(stop_words='english')\n",
    "tfidf_matrix = tfidf.fit_transform(df['lyrics'])\n",
    "\n",
    "tfidf_matrix"
   ]
  },
  {
   "cell_type": "code",
   "execution_count": 53,
   "metadata": {},
   "outputs": [],
   "source": [
    "# input mood sentence and get its tfidf by using the already fitted tfidf\n",
    "input_sentence = 'I am feeling sad'\n",
    "tfidf_input = tfidf.transform([input_sentence])"
   ]
  },
  {
   "cell_type": "code",
   "execution_count": 54,
   "metadata": {},
   "outputs": [
    {
     "name": "stdout",
     "output_type": "stream",
     "text": [
      "1 Call by Tory Lanez\n",
      "Action This Day (Live at the Milton Keynes Bowl, 5th June 1982) by Queen\n",
      "0C3AN *clip* by XXXTENTACION\n",
      "Anywhere / Your Song / For You (Medley) (Live at the BRITs) by Rita Ora (Ft. Liam Payne)\n",
      "A Loving Feeling by Mitski\n"
     ]
    }
   ],
   "source": [
    "# get cosine similarity between input sentence and all the lyrics\n",
    "cosine_sim = cosine_similarity(tfidf_input, tfidf_matrix)\n",
    "\n",
    "# get the index of the n most similar song and print the title and artist of the song\n",
    "n = 5\n",
    "most_similar = np.argsort(cosine_sim[0])[-n:]\n",
    "for i in most_similar:\n",
    "    print(df.iloc[i]['title'], 'by', df.iloc[i]['artist_names'])"
   ]
  },
  {
   "cell_type": "code",
   "execution_count": 57,
   "metadata": {},
   "outputs": [],
   "source": [
    "class GetPlaylist():\n",
    "    def __init__(self, number_of_songs=5):\n",
    "        self.number_of_songs = number_of_songs\n",
    "\n",
    "    def train_model(self, df):\n",
    "        self.tfidf = TfidfVectorizer(stop_words='english')\n",
    "        self.tfidf_matrix = self.tfidf.fit_transform(df['lyrics'])\n",
    "\n",
    "    def get_playlist(self, input_sentence):\n",
    "        self.input_sentence = input_sentence\n",
    "        self.tfidf_input = self.tfidf.transform([self.input_sentence])\n",
    "        self.cosine_sim = cosine_similarity(self.tfidf_input, self.tfidf_matrix)\n",
    "        self.most_similar = np.argsort(self.cosine_sim[0])[-self.number_of_songs:]\n",
    "        self.playlist = []\n",
    "        for i in self.most_similar:\n",
    "            self.playlist.append((df.iloc[i]['title'], df.iloc[i]['artist_names']))\n",
    "        return self.playlist     "
   ]
  },
  {
   "cell_type": "markdown",
   "metadata": {},
   "source": [
    "### Model 2"
   ]
  },
  {
   "cell_type": "code",
   "execution_count": 22,
   "metadata": {},
   "outputs": [
    {
     "name": "stderr",
     "output_type": "stream",
     "text": [
      "Some weights of the model checkpoint at bert-base-uncased were not used when initializing BertModel: ['cls.predictions.transform.LayerNorm.weight', 'cls.seq_relationship.bias', 'cls.predictions.bias', 'cls.predictions.transform.dense.weight', 'cls.predictions.transform.dense.bias', 'cls.seq_relationship.weight', 'cls.predictions.transform.LayerNorm.bias']\n",
      "- This IS expected if you are initializing BertModel from the checkpoint of a model trained on another task or with another architecture (e.g. initializing a BertForSequenceClassification model from a BertForPreTraining model).\n",
      "- This IS NOT expected if you are initializing BertModel from the checkpoint of a model that you expect to be exactly identical (initializing a BertForSequenceClassification model from a BertForSequenceClassification model).\n"
     ]
    },
    {
     "data": {
      "text/plain": [
       "(1, 12, 768)"
      ]
     },
     "execution_count": 22,
     "metadata": {},
     "output_type": "execute_result"
    }
   ],
   "source": [
    "from transformers import BertTokenizer, BertModel\n",
    "tokenizer = BertTokenizer.from_pretrained('bert-base-uncased')\n",
    "model = BertModel.from_pretrained(\"bert-base-uncased\")\n",
    "text = \"Replace me by any text you'd like.\"\n",
    "encoded_input = tokenizer(text, return_tensors='pt')\n",
    "output = model(**encoded_input)\n",
    "np.shape(output[0].detach().numpy())"
   ]
  },
  {
   "cell_type": "code",
   "execution_count": 15,
   "metadata": {},
   "outputs": [],
   "source": [
    "# Applying model to the lyrics\n",
    "lyrics = df['lyrics'].tolist()\n",
    "\n",
    "# Tokenize the lyrics\n",
    "tokenized_lyrics = [tokenizer(lyric, return_tensors='pt', padding=True, truncation=True) for lyric in lyrics]\n",
    "\n",
    "df['tokenized_lyrics'] = tokenized_lyrics\n"
   ]
  },
  {
   "cell_type": "code",
   "execution_count": 47,
   "metadata": {},
   "outputs": [],
   "source": [
    "# Apply the model to the tokenized lyrics to get columns 'lyrics_last_hidden_state'\n",
    "\n",
    "last_hidden_states = []\n",
    "\n",
    "for tokenized_lyric in tokenized_lyrics:\n",
    "    last_hidden_states.append(model(**tokenized_lyric)[0])"
   ]
  },
  {
   "cell_type": "code",
   "execution_count": 48,
   "metadata": {},
   "outputs": [],
   "source": [
    "for i in range(len(last_hidden_states)):\n",
    "    last_hidden_states[i] = last_hidden_states[i].detach().numpy().squeeze()\n",
    "\n",
    "    "
   ]
  },
  {
   "cell_type": "code",
   "execution_count": 50,
   "metadata": {},
   "outputs": [],
   "source": [
    "# pad the first dimension of all the hidden states to the same length\n",
    "max_len = max([np.shape(hidden_state)[0] for hidden_state in last_hidden_states])\n",
    "for i in range(len(last_hidden_states)):\n",
    "    last_hidden_states[i] = np.pad(last_hidden_states[i], ((0, max_len - np.shape(last_hidden_states[i])[0]), (0, 0)), 'constant', constant_values=0)"
   ]
  },
  {
   "cell_type": "code",
   "execution_count": null,
   "metadata": {},
   "outputs": [],
   "source": [
    "last_hidden_states = [hidden_state.reshape(-1) for hidden_state in last_hidden_states]"
   ]
  },
  {
   "cell_type": "code",
   "execution_count": 84,
   "metadata": {},
   "outputs": [],
   "source": [
    "input_sentence = 'I really really like frank ocean he is the best artist that has ever touched this planet I cant wait to see him in a concert'\n",
    "\n",
    "# Tokenize the input sentence\n",
    "tokenized_input = tokenizer(input_sentence, return_tensors='pt', padding=True, truncation=True)\n",
    "\n",
    "# Apply the model to the tokenized input sentence to get columns 'input_last_hidden_state'\n",
    "input_last_hidden_state = model(**tokenized_input)[0].detach().numpy().squeeze()\n",
    "\n",
    "# pad the first dimension of the hidden state to the same length as the hidden states of the lyrics\n",
    "input_last_hidden_state = np.pad(input_last_hidden_state, ((0, max_len - np.shape(input_last_hidden_state)[0]), (0, 0)), 'constant', constant_values=0)\n",
    "\n",
    "# flatten the last two dimensions of the hidden states\n",
    "input_last_hidden_state = input_last_hidden_state.reshape(-1)"
   ]
  },
  {
   "cell_type": "code",
   "execution_count": 85,
   "metadata": {},
   "outputs": [
    {
     "name": "stdout",
     "output_type": "stream",
     "text": [
      "7:77AM (Instrumental) by Nekfeu\n",
      "30 Minutes with Mathew Saville by Tame Impala\n",
      "Aerodynamic Beats / Forget About the World by Daft Punk\n"
     ]
    }
   ],
   "source": [
    "# get cosine similarity between input sentence and all the lyrics\n",
    "cosine_sim = cosine_similarity([input_last_hidden_state], last_hidden_states)\n",
    "\n",
    "n=3\n",
    "most_similar = np.argsort(cosine_sim[0])[-n:]\n",
    "for i in most_similar:\n",
    "    print(df.iloc[i]['title'], 'by', df.iloc[i]['artist_names'])"
   ]
  }
 ],
 "metadata": {
  "kernelspec": {
   "display_name": "Python 3",
   "language": "python",
   "name": "python3"
  },
  "language_info": {
   "codemirror_mode": {
    "name": "ipython",
    "version": 3
   },
   "file_extension": ".py",
   "mimetype": "text/x-python",
   "name": "python",
   "nbconvert_exporter": "python",
   "pygments_lexer": "ipython3",
   "version": "3.8.1"
  }
 },
 "nbformat": 4,
 "nbformat_minor": 2
}
